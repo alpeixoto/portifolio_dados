{
  "nbformat": 4,
  "nbformat_minor": 0,
  "metadata": {
    "colab": {
      "name": "Inteligência Artificial na prática para iniciantes2.ipynb",
      "provenance": []
    },
    "kernelspec": {
      "name": "python3",
      "display_name": "Python 3"
    },
    "language_info": {
      "name": "python"
    }
  },
  "cells": [
    {
      "cell_type": "markdown",
      "metadata": {
        "id": "uFi_W6BEYIMC"
      },
      "source": [
        "Importando as Bibliotecas"
      ]
    },
    {
      "cell_type": "code",
      "metadata": {
        "id": "UTHIIOqpYLIs"
      },
      "source": [
        "#Manipulação dos dados\n",
        "import pandas as pd\n",
        "\n",
        "#Visualização\n",
        "\n",
        "#Machine Learning"
      ],
      "execution_count": 3,
      "outputs": []
    },
    {
      "cell_type": "markdown",
      "metadata": {
        "id": "EQ0wOkF_YeG2"
      },
      "source": [
        "Carregando os Dados"
      ]
    },
    {
      "cell_type": "code",
      "metadata": {
        "id": "IYYiwtRiYmFI"
      },
      "source": [
        "df = pd.read_csv(\"KAG_conversion_data.csv\")"
      ],
      "execution_count": 5,
      "outputs": []
    },
    {
      "cell_type": "code",
      "metadata": {
        "colab": {
          "base_uri": "https://localhost:8080/"
        },
        "id": "fS9QEqWXfPCx",
        "outputId": "70094ef5-4380-4298-c0f7-9d334498ce7a"
      },
      "source": [
        "type(df)"
      ],
      "execution_count": 6,
      "outputs": [
        {
          "output_type": "execute_result",
          "data": {
            "text/plain": [
              "pandas.core.frame.DataFrame"
            ]
          },
          "metadata": {
            "tags": []
          },
          "execution_count": 6
        }
      ]
    },
    {
      "cell_type": "markdown",
      "metadata": {
        "id": "qhUn8ABDfcyH"
      },
      "source": [
        "Primeira Inspeção"
      ]
    },
    {
      "cell_type": "code",
      "metadata": {
        "colab": {
          "base_uri": "https://localhost:8080/",
          "height": 309
        },
        "id": "bgno6T_1fe_G",
        "outputId": "9f9a939f-4d71-4814-bb7d-2806f70b8fd7"
      },
      "source": [
        "df.head()"
      ],
      "execution_count": 9,
      "outputs": [
        {
          "output_type": "execute_result",
          "data": {
            "text/html": [
              "<div>\n",
              "<style scoped>\n",
              "    .dataframe tbody tr th:only-of-type {\n",
              "        vertical-align: middle;\n",
              "    }\n",
              "\n",
              "    .dataframe tbody tr th {\n",
              "        vertical-align: top;\n",
              "    }\n",
              "\n",
              "    .dataframe thead th {\n",
              "        text-align: right;\n",
              "    }\n",
              "</style>\n",
              "<table border=\"1\" class=\"dataframe\">\n",
              "  <thead>\n",
              "    <tr style=\"text-align: right;\">\n",
              "      <th></th>\n",
              "      <th>ad_id</th>\n",
              "      <th>xyz_campaign_id</th>\n",
              "      <th>fb_campaign_id</th>\n",
              "      <th>age</th>\n",
              "      <th>gender</th>\n",
              "      <th>interest</th>\n",
              "      <th>Impressions</th>\n",
              "      <th>Clicks</th>\n",
              "      <th>Spent</th>\n",
              "      <th>Total_Conversion</th>\n",
              "      <th>Approved_Conversion</th>\n",
              "    </tr>\n",
              "  </thead>\n",
              "  <tbody>\n",
              "    <tr>\n",
              "      <th>0</th>\n",
              "      <td>708746</td>\n",
              "      <td>916</td>\n",
              "      <td>103916</td>\n",
              "      <td>30-34</td>\n",
              "      <td>M</td>\n",
              "      <td>15</td>\n",
              "      <td>7350</td>\n",
              "      <td>1</td>\n",
              "      <td>1.43</td>\n",
              "      <td>2</td>\n",
              "      <td>1</td>\n",
              "    </tr>\n",
              "    <tr>\n",
              "      <th>1</th>\n",
              "      <td>708749</td>\n",
              "      <td>916</td>\n",
              "      <td>103917</td>\n",
              "      <td>30-34</td>\n",
              "      <td>M</td>\n",
              "      <td>16</td>\n",
              "      <td>17861</td>\n",
              "      <td>2</td>\n",
              "      <td>1.82</td>\n",
              "      <td>2</td>\n",
              "      <td>0</td>\n",
              "    </tr>\n",
              "    <tr>\n",
              "      <th>2</th>\n",
              "      <td>708771</td>\n",
              "      <td>916</td>\n",
              "      <td>103920</td>\n",
              "      <td>30-34</td>\n",
              "      <td>M</td>\n",
              "      <td>20</td>\n",
              "      <td>693</td>\n",
              "      <td>0</td>\n",
              "      <td>0.00</td>\n",
              "      <td>1</td>\n",
              "      <td>0</td>\n",
              "    </tr>\n",
              "    <tr>\n",
              "      <th>3</th>\n",
              "      <td>708815</td>\n",
              "      <td>916</td>\n",
              "      <td>103928</td>\n",
              "      <td>30-34</td>\n",
              "      <td>M</td>\n",
              "      <td>28</td>\n",
              "      <td>4259</td>\n",
              "      <td>1</td>\n",
              "      <td>1.25</td>\n",
              "      <td>1</td>\n",
              "      <td>0</td>\n",
              "    </tr>\n",
              "    <tr>\n",
              "      <th>4</th>\n",
              "      <td>708818</td>\n",
              "      <td>916</td>\n",
              "      <td>103928</td>\n",
              "      <td>30-34</td>\n",
              "      <td>M</td>\n",
              "      <td>28</td>\n",
              "      <td>4133</td>\n",
              "      <td>1</td>\n",
              "      <td>1.29</td>\n",
              "      <td>1</td>\n",
              "      <td>1</td>\n",
              "    </tr>\n",
              "  </tbody>\n",
              "</table>\n",
              "</div>"
            ],
            "text/plain": [
              "    ad_id  xyz_campaign_id  ...  Total_Conversion Approved_Conversion\n",
              "0  708746              916  ...                 2                   1\n",
              "1  708749              916  ...                 2                   0\n",
              "2  708771              916  ...                 1                   0\n",
              "3  708815              916  ...                 1                   0\n",
              "4  708818              916  ...                 1                   1\n",
              "\n",
              "[5 rows x 11 columns]"
            ]
          },
          "metadata": {
            "tags": []
          },
          "execution_count": 9
        }
      ]
    },
    {
      "cell_type": "code",
      "metadata": {
        "colab": {
          "base_uri": "https://localhost:8080/",
          "height": 309
        },
        "id": "Q6VZozHKlN2A",
        "outputId": "098a6bd3-0186-435d-b444-55469297d5f9"
      },
      "source": [
        "df.tail()"
      ],
      "execution_count": 10,
      "outputs": [
        {
          "output_type": "execute_result",
          "data": {
            "text/html": [
              "<div>\n",
              "<style scoped>\n",
              "    .dataframe tbody tr th:only-of-type {\n",
              "        vertical-align: middle;\n",
              "    }\n",
              "\n",
              "    .dataframe tbody tr th {\n",
              "        vertical-align: top;\n",
              "    }\n",
              "\n",
              "    .dataframe thead th {\n",
              "        text-align: right;\n",
              "    }\n",
              "</style>\n",
              "<table border=\"1\" class=\"dataframe\">\n",
              "  <thead>\n",
              "    <tr style=\"text-align: right;\">\n",
              "      <th></th>\n",
              "      <th>ad_id</th>\n",
              "      <th>xyz_campaign_id</th>\n",
              "      <th>fb_campaign_id</th>\n",
              "      <th>age</th>\n",
              "      <th>gender</th>\n",
              "      <th>interest</th>\n",
              "      <th>Impressions</th>\n",
              "      <th>Clicks</th>\n",
              "      <th>Spent</th>\n",
              "      <th>Total_Conversion</th>\n",
              "      <th>Approved_Conversion</th>\n",
              "    </tr>\n",
              "  </thead>\n",
              "  <tbody>\n",
              "    <tr>\n",
              "      <th>1138</th>\n",
              "      <td>1314410</td>\n",
              "      <td>1178</td>\n",
              "      <td>179977</td>\n",
              "      <td>45-49</td>\n",
              "      <td>F</td>\n",
              "      <td>109</td>\n",
              "      <td>1129773</td>\n",
              "      <td>252</td>\n",
              "      <td>358.189997</td>\n",
              "      <td>13</td>\n",
              "      <td>2</td>\n",
              "    </tr>\n",
              "    <tr>\n",
              "      <th>1139</th>\n",
              "      <td>1314411</td>\n",
              "      <td>1178</td>\n",
              "      <td>179978</td>\n",
              "      <td>45-49</td>\n",
              "      <td>F</td>\n",
              "      <td>110</td>\n",
              "      <td>637549</td>\n",
              "      <td>120</td>\n",
              "      <td>173.880003</td>\n",
              "      <td>3</td>\n",
              "      <td>0</td>\n",
              "    </tr>\n",
              "    <tr>\n",
              "      <th>1140</th>\n",
              "      <td>1314412</td>\n",
              "      <td>1178</td>\n",
              "      <td>179979</td>\n",
              "      <td>45-49</td>\n",
              "      <td>F</td>\n",
              "      <td>111</td>\n",
              "      <td>151531</td>\n",
              "      <td>28</td>\n",
              "      <td>40.289999</td>\n",
              "      <td>2</td>\n",
              "      <td>0</td>\n",
              "    </tr>\n",
              "    <tr>\n",
              "      <th>1141</th>\n",
              "      <td>1314414</td>\n",
              "      <td>1178</td>\n",
              "      <td>179981</td>\n",
              "      <td>45-49</td>\n",
              "      <td>F</td>\n",
              "      <td>113</td>\n",
              "      <td>790253</td>\n",
              "      <td>135</td>\n",
              "      <td>198.710000</td>\n",
              "      <td>8</td>\n",
              "      <td>2</td>\n",
              "    </tr>\n",
              "    <tr>\n",
              "      <th>1142</th>\n",
              "      <td>1314415</td>\n",
              "      <td>1178</td>\n",
              "      <td>179982</td>\n",
              "      <td>45-49</td>\n",
              "      <td>F</td>\n",
              "      <td>114</td>\n",
              "      <td>513161</td>\n",
              "      <td>114</td>\n",
              "      <td>165.609999</td>\n",
              "      <td>5</td>\n",
              "      <td>2</td>\n",
              "    </tr>\n",
              "  </tbody>\n",
              "</table>\n",
              "</div>"
            ],
            "text/plain": [
              "        ad_id  xyz_campaign_id  ...  Total_Conversion Approved_Conversion\n",
              "1138  1314410             1178  ...                13                   2\n",
              "1139  1314411             1178  ...                 3                   0\n",
              "1140  1314412             1178  ...                 2                   0\n",
              "1141  1314414             1178  ...                 8                   2\n",
              "1142  1314415             1178  ...                 5                   2\n",
              "\n",
              "[5 rows x 11 columns]"
            ]
          },
          "metadata": {
            "tags": []
          },
          "execution_count": 10
        }
      ]
    },
    {
      "cell_type": "code",
      "metadata": {
        "colab": {
          "base_uri": "https://localhost:8080/"
        },
        "id": "c84YiSRGosrg",
        "outputId": "63b33b61-4389-414f-f55e-90e57c4827d1"
      },
      "source": [
        "df.columns"
      ],
      "execution_count": 11,
      "outputs": [
        {
          "output_type": "execute_result",
          "data": {
            "text/plain": [
              "Index(['ad_id', 'xyz_campaign_id', 'fb_campaign_id', 'age', 'gender',\n",
              "       'interest', 'Impressions', 'Clicks', 'Spent', 'Total_Conversion',\n",
              "       'Approved_Conversion'],\n",
              "      dtype='object')"
            ]
          },
          "metadata": {
            "tags": []
          },
          "execution_count": 11
        }
      ]
    },
    {
      "cell_type": "code",
      "metadata": {
        "colab": {
          "base_uri": "https://localhost:8080/"
        },
        "id": "CqTUPdJ0owlQ",
        "outputId": "210bac74-fe86-4f21-9269-f1e209a98e87"
      },
      "source": [
        "df.index"
      ],
      "execution_count": 12,
      "outputs": [
        {
          "output_type": "execute_result",
          "data": {
            "text/plain": [
              "RangeIndex(start=0, stop=1143, step=1)"
            ]
          },
          "metadata": {
            "tags": []
          },
          "execution_count": 12
        }
      ]
    },
    {
      "cell_type": "code",
      "metadata": {
        "colab": {
          "base_uri": "https://localhost:8080/"
        },
        "id": "nZvxUOd4ozkq",
        "outputId": "103aa35e-995b-44a7-a90b-ea2d547f4593"
      },
      "source": [
        "df.shape"
      ],
      "execution_count": 13,
      "outputs": [
        {
          "output_type": "execute_result",
          "data": {
            "text/plain": [
              "(1143, 11)"
            ]
          },
          "metadata": {
            "tags": []
          },
          "execution_count": 13
        }
      ]
    },
    {
      "cell_type": "code",
      "metadata": {
        "id": "6lqqJA5Wo3dp"
      },
      "source": [
        "linhas, colunas = df.shape"
      ],
      "execution_count": 15,
      "outputs": []
    },
    {
      "cell_type": "code",
      "metadata": {
        "colab": {
          "base_uri": "https://localhost:8080/"
        },
        "id": "qePsm0tUo_ih",
        "outputId": "df34c453-b026-4010-dcd7-d864c187c32e"
      },
      "source": [
        "print(f\"O número de linhas e {linhas}\")"
      ],
      "execution_count": 16,
      "outputs": [
        {
          "output_type": "stream",
          "text": [
            "O número de linhas e 1143\n"
          ],
          "name": "stdout"
        }
      ]
    },
    {
      "cell_type": "code",
      "metadata": {
        "colab": {
          "base_uri": "https://localhost:8080/"
        },
        "id": "XuUhC1iarjIk",
        "outputId": "9b99273d-899f-4680-ddba-3de9e7d2c5bb"
      },
      "source": [
        "type(df)"
      ],
      "execution_count": 17,
      "outputs": [
        {
          "output_type": "execute_result",
          "data": {
            "text/plain": [
              "pandas.core.frame.DataFrame"
            ]
          },
          "metadata": {
            "tags": []
          },
          "execution_count": 17
        }
      ]
    },
    {
      "cell_type": "code",
      "metadata": {
        "id": "aDASMkNArvY3"
      },
      "source": [
        "ser_interest = df['interest']"
      ],
      "execution_count": 18,
      "outputs": []
    },
    {
      "cell_type": "code",
      "metadata": {
        "colab": {
          "base_uri": "https://localhost:8080/"
        },
        "id": "cfAuQANnsGPK",
        "outputId": "8338cd7a-22df-468a-dfff-01cd4cdc3518"
      },
      "source": [
        "type(ser_interest)"
      ],
      "execution_count": 19,
      "outputs": [
        {
          "output_type": "execute_result",
          "data": {
            "text/plain": [
              "pandas.core.series.Series"
            ]
          },
          "metadata": {
            "tags": []
          },
          "execution_count": 19
        }
      ]
    },
    {
      "cell_type": "code",
      "metadata": {
        "colab": {
          "base_uri": "https://localhost:8080/"
        },
        "id": "kH5JLYGRsS8h",
        "outputId": "8321e7fc-026b-484d-a3f0-2ebaad17a598"
      },
      "source": [
        "df.info()"
      ],
      "execution_count": 20,
      "outputs": [
        {
          "output_type": "stream",
          "text": [
            "<class 'pandas.core.frame.DataFrame'>\n",
            "RangeIndex: 1143 entries, 0 to 1142\n",
            "Data columns (total 11 columns):\n",
            " #   Column               Non-Null Count  Dtype  \n",
            "---  ------               --------------  -----  \n",
            " 0   ad_id                1143 non-null   int64  \n",
            " 1   xyz_campaign_id      1143 non-null   int64  \n",
            " 2   fb_campaign_id       1143 non-null   int64  \n",
            " 3   age                  1143 non-null   object \n",
            " 4   gender               1143 non-null   object \n",
            " 5   interest             1143 non-null   int64  \n",
            " 6   Impressions          1143 non-null   int64  \n",
            " 7   Clicks               1143 non-null   int64  \n",
            " 8   Spent                1143 non-null   float64\n",
            " 9   Total_Conversion     1143 non-null   int64  \n",
            " 10  Approved_Conversion  1143 non-null   int64  \n",
            "dtypes: float64(1), int64(8), object(2)\n",
            "memory usage: 98.4+ KB\n"
          ],
          "name": "stdout"
        }
      ]
    }
  ]
}